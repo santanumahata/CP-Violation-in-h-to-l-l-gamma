{
 "cells": [
  {
   "cell_type": "code",
   "execution_count": 31,
   "metadata": {},
   "outputs": [],
   "source": [
    "import ROOT\n",
    "import ROOT\n",
    "import csv\n",
    "import pandas as pd\n",
    "import numpy as np\n",
    "\n",
    "c = 3*10**8"
   ]
  },
  {
   "cell_type": "code",
   "execution_count": 32,
   "metadata": {},
   "outputs": [],
   "source": [
    "file = ROOT.TFile(\"final_hlla_Z.root\")"
   ]
  },
  {
   "cell_type": "code",
   "execution_count": 33,
   "metadata": {},
   "outputs": [],
   "source": [
    "tree = file.Get('events')\n"
   ]
  },
  {
   "cell_type": "code",
   "execution_count": 34,
   "metadata": {},
   "outputs": [
    {
     "name": "stdout",
     "output_type": "stream",
     "text": [
      "numParticles\n",
      "eventweight\n",
      "scale\n",
      "alpha_qed\n",
      "alpha_qcd\n",
      "pid\n",
      "status\n",
      "mother1\n",
      "mother2\n",
      "color1\n",
      "color2\n",
      "px\n",
      "py\n",
      "pz\n",
      "energy\n",
      "mass\n",
      "tau\n",
      "spin\n"
     ]
    }
   ],
   "source": [
    "branches = tree.GetListOfBranches()\n",
    "\n",
    "for branch in branches:\n",
    "    print(branch.GetName())"
   ]
  },
  {
   "cell_type": "code",
   "execution_count": 35,
   "metadata": {},
   "outputs": [],
   "source": [
    "# From the data we conclude \n",
    "# Particle ID Higgs : 25\n",
    "# Particle ID Z boson : 23\n",
    "# Particle ID \\gamma : 22\n",
    "# Particle ID Mu+ : -13\n",
    "# Particle ID Mu- : 13\n",
    "# Particle ID e+ : -11\n",
    "# Particle ID e- : 11"
   ]
  },
  {
   "cell_type": "markdown",
   "metadata": {},
   "source": [
    "Tree 1 : Only Z Propagator"
   ]
  },
  {
   "cell_type": "code",
   "execution_count": 36,
   "metadata": {},
   "outputs": [
    {
     "name": "stdout",
     "output_type": "stream",
     "text": [
      "Particle momentum data saved to '(ZProp)DATA_particle_momentum.csv'.\n"
     ]
    }
   ],
   "source": [
    "\n",
    "# Open a CSV file for writing\n",
    "with open(\"(ZProp)DATA_particle_momentum.csv\", mode=\"w\", newline=\"\") as csvfile:\n",
    "    csvwriter = csv.writer(csvfile)\n",
    "\n",
    "    # Write the header row\n",
    "    csvwriter.writerow([\"Event\", \"Particle\", \"Px\", \"Py\", \"Pz\", \"Energy\", \"Mass\", \"PID\"])\n",
    "\n",
    "    # Initialize event counter\n",
    "    event_counter = 0\n",
    "\n",
    "    # Loop over all events in the tree\n",
    "    for event in tree:\n",
    "        # Access branches for all particles in the event\n",
    "        x = event.px\n",
    "        y = event.py\n",
    "        z = event.pz\n",
    "        e = event.energy  # Energy\n",
    "        m = event.mass    # Mass\n",
    "        pid = event.pid   # Particle IDs\n",
    "\n",
    "        # Loop over all particles in the event\n",
    "        for j in range(len(pid)):\n",
    "            particle_name = None\n",
    "\n",
    "            # Determine the particle name based on PID\n",
    "            if pid[j] == 25:\n",
    "                particle_name = \"Higgs\"\n",
    "            elif pid[j] == 23:\n",
    "                particle_name = \"Z Boson\"\n",
    "            elif pid[j] == 22:\n",
    "                particle_name = \"Photon\"\n",
    "            elif pid[j] == -13:\n",
    "                particle_name = \"Muon+\"\n",
    "            elif pid[j] == 13:\n",
    "                particle_name = \"Muon-\"\n",
    "            elif pid[j] == -11:\n",
    "                particle_name = \"Electron+\"\n",
    "            elif pid[j] == 11:\n",
    "                particle_name = \"Electron-\"\n",
    "\n",
    "            # If a recognized particle, write the data to the CSV\n",
    "            if particle_name:\n",
    "                csvwriter.writerow([event_counter, particle_name, x[j], y[j], z[j], e[j], m[j], pid[j]])\n",
    "\n",
    "        # Increment event counter\n",
    "        event_counter += 1\n",
    "\n",
    "print(\"Particle momentum data saved to '(ZProp)DATA_particle_momentum.csv'.\")\n"
   ]
  },
  {
   "cell_type": "code",
   "execution_count": 37,
   "metadata": {},
   "outputs": [
    {
     "name": "stdout",
     "output_type": "stream",
     "text": [
      "Lorentz transformed data saved to 'Transformed_momentum.csv'.\n"
     ]
    }
   ],
   "source": [
    "import pandas as pd\n",
    "import numpy as np\n",
    "\n",
    "# Load the CSV file\n",
    "input_file = \"(ZProp)DATA_particle_momentum.csv\"  # Replace with your file name\n",
    "data = pd.read_csv(input_file)\n",
    "\n",
    "# Output file for Lorentz transformed data\n",
    "output_file = \"Transformed_momentum.csv\"\n",
    "\n",
    "# Step 1: Define the Lorentz transformation matrix function\n",
    "def lorentz_matrix(vx_c, vy_c, vz_c):\n",
    "    \"\"\"\n",
    "    Create a Lorentz transformation matrix for a boost with velocity (vx_c, vy_c, vz_c).\n",
    "    \"\"\"\n",
    "    beta = np.sqrt(vx_c**2 + vy_c**2 + vz_c**2)\n",
    "    if beta >= 1:\n",
    "        raise ValueError(\"Velocity magnitude must be less than the speed of light (beta < 1).\")\n",
    "    \n",
    "    gamma = 1.0 / np.sqrt(1 - beta**2)\n",
    "    \n",
    "    # Lorentz matrix (4x4) structure\n",
    "    L = np.zeros((4, 4))\n",
    "    L[0, 0] = gamma\n",
    "    L[1, 1] = 1 + (gamma**2)/(1+gamma) * vx_c**2\n",
    "    L[2, 2] = 1 + (gamma**2)/(1+gamma) * vy_c**2\n",
    "    L[3, 3] = 1 + (gamma**2)/(1+gamma) * vz_c**2\n",
    "    L[1, 2] = L[2, 1] = (gamma**2)/(1+gamma) * vx_c * vy_c\n",
    "    L[1, 3] = L[3, 1] = (gamma**2)/(1+gamma) * vx_c * vz_c\n",
    "    L[2, 3] = L[3, 2] = (gamma**2)/(1+gamma) * vz_c * vy_c\n",
    "    L[0, 1] = L[1, 0] = -gamma * vx_c\n",
    "    L[0, 2] = L[2, 0] = -gamma * vy_c\n",
    "    L[0, 3] = L[3, 0] = -gamma * vz_c\n",
    "    \n",
    "    return L\n",
    "\n",
    "# Step 2: Initialize a list to store the transformed data\n",
    "transformed_data = []\n",
    "\n",
    "\n",
    "# Step 3: Loop over unique events\n",
    "for event_id in data[\"Event\"].unique():\n",
    "    event_data = data[data[\"Event\"] == event_id]\n",
    "\n",
    "    # Extract Z boson data\n",
    "    z_boson_data = event_data[event_data[\"Particle\"] == \"Z Boson\"]\n",
    "\n",
    "    if not z_boson_data.empty:\n",
    "        # Get Z boson's momentum and energy\n",
    "        z_boson_vector = z_boson_data[[\"Px\", \"Py\", \"Pz\", \"Energy\"]].values[0]\n",
    "        px, py, pz, energy = z_boson_vector\n",
    "\n",
    "        # Compute velocity components (v_x_c, v_y_c, v_z_c)\n",
    "        vx_c, vy_c, vz_c = px / energy, py / energy, pz / energy\n",
    "\n",
    "        # Get the Lorentz transformation matrix\n",
    "        L = lorentz_matrix(vx_c, vy_c, vz_c)\n",
    "\n",
    "        # Step 4: Apply the Lorentz transformation to all particles in the event\n",
    "        for _, particle in event_data.iterrows():\n",
    "            # Original 4-momentum (E, Px, Py, Pz)\n",
    "            original_vector = np.array([particle[\"Energy\"], particle[\"Px\"], particle[\"Py\"], particle[\"Pz\"]])\n",
    "\n",
    "            # Apply Lorentz transformation\n",
    "            transformed_vector = np.dot(L, original_vector)\n",
    "\n",
    "            # Append transformed data\n",
    "            transformed_data.append([\n",
    "                event_id,\n",
    "                particle[\"Particle\"],\n",
    "                transformed_vector[1],  # Px\n",
    "                transformed_vector[2],  # Py\n",
    "                transformed_vector[3],  # Pz\n",
    "                transformed_vector[0],  # Energy\n",
    "                particle[\"Mass\"],\n",
    "                particle[\"PID\"]\n",
    "            ])\n",
    "\n",
    "# Step 5: Create a new DataFrame and save it\n",
    "transformed_df = pd.DataFrame(\n",
    "    transformed_data,\n",
    "    columns=[\"Event\", \"Particle\", \"Px\", \"Py\", \"Pz\", \"Energy\", \"Mass\", \"PID\"]\n",
    ")\n",
    "\n",
    "# Save the transformed data to a CSV file\n",
    "transformed_df.to_csv(output_file, index=False)\n",
    "\n",
    "print(f\"Lorentz transformed data saved to '{output_file}'.\")"
   ]
  },
  {
   "cell_type": "code",
   "execution_count": 38,
   "metadata": {},
   "outputs": [
    {
     "name": "stdout",
     "output_type": "stream",
     "text": [
      "Velocity data saved to particles_velocities.csv\n"
     ]
    }
   ],
   "source": [
    "import pandas as pd\n",
    "\n",
    "# Input file containing the particle data\n",
    "input_file = \"(ZProp)DATA_particle_momentum.csv\"  # Replace with your actual file name\n",
    "\n",
    "# Read the data into a pandas dataframe\n",
    "data = pd.read_csv(input_file)\n",
    "\n",
    "# Define a function to calculate velocity components\n",
    "def calculate_velocity(row):\n",
    "    # Extract momentum components and energy\n",
    "    px, py, pz, energy = row['Px'], row['Py'], row['Pz'], row['Energy']\n",
    "    \n",
    "    # Calculate velocity components\n",
    "    vx = px / energy\n",
    "    vy = py / energy\n",
    "    vz = pz / energy\n",
    "    \n",
    "    return pd.Series([vx, vy, vz], index=['Vx', 'Vy', 'Vz'])\n",
    "\n",
    "# Apply the function to each row in the dataframe and create new columns for velocities\n",
    "data[['Vx', 'Vy', 'Vz']] = data.apply(calculate_velocity, axis=1)\n",
    "\n",
    "# Output the new dataframe to a CSV file\n",
    "output_file = \"particles_velocities.csv\"  # Replace with your desired output file name\n",
    "data.to_csv(output_file, index=False)\n",
    "\n",
    "print(f\"Velocity data saved to {output_file}\")\n"
   ]
  },
  {
   "cell_type": "code",
   "execution_count": 39,
   "metadata": {},
   "outputs": [
    {
     "name": "stdout",
     "output_type": "stream",
     "text": [
      "Velocity data saved to Transformed_velocities.csv\n"
     ]
    }
   ],
   "source": [
    "import pandas as pd\n",
    "\n",
    "# Input file containing the particle data\n",
    "input_file = \"Transformed_momentum.csv\"  # Replace with your actual file name\n",
    "\n",
    "# Read the data into a pandas dataframe\n",
    "data = pd.read_csv(input_file)\n",
    "\n",
    "# Define a function to calculate velocity components\n",
    "def calculate_velocity(row):\n",
    "    # Extract momentum components and energy\n",
    "    px, py, pz, energy = row['Px'], row['Py'], row['Pz'], row['Energy']\n",
    "    \n",
    "    # Calculate velocity components\n",
    "    vx = px / energy\n",
    "    vy = py / energy\n",
    "    vz = pz / energy\n",
    "    \n",
    "    return pd.Series([vx, vy, vz], index=['Vx', 'Vy', 'Vz'])\n",
    "\n",
    "# Apply the function to each row in the dataframe and create new columns for velocities\n",
    "data[['Vx', 'Vy', 'Vz']] = data.apply(calculate_velocity, axis=1)\n",
    "\n",
    "# Output the new dataframe to a CSV file\n",
    "output_file = \"Transformed_velocities.csv\"  # Replace with your desired output file name\n",
    "data.to_csv(output_file, index=False)\n",
    "\n",
    "print(f\"Velocity data saved to {output_file}\")\n"
   ]
  },
  {
   "cell_type": "code",
   "execution_count": null,
   "metadata": {},
   "outputs": [],
   "source": []
  }
 ],
 "metadata": {
  "kernelspec": {
   "display_name": "work1",
   "language": "python",
   "name": "python3"
  },
  "language_info": {
   "codemirror_mode": {
    "name": "ipython",
    "version": 3
   },
   "file_extension": ".py",
   "mimetype": "text/x-python",
   "name": "python",
   "nbconvert_exporter": "python",
   "pygments_lexer": "ipython3",
   "version": "3.12.8"
  }
 },
 "nbformat": 4,
 "nbformat_minor": 2
}
