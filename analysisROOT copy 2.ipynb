{
 "cells": [
  {
   "cell_type": "code",
   "execution_count": 1,
   "metadata": {},
   "outputs": [],
   "source": [
    "import ROOT"
   ]
  },
  {
   "cell_type": "code",
   "execution_count": 2,
   "metadata": {},
   "outputs": [],
   "source": [
    "file1 = ROOT.TFile(\"hlla_Z_propagator_run_01.root\")\n",
    "\n",
    "file2 = ROOT.TFile(\"hlla_Za_propagator_run_01.root\")"
   ]
  },
  {
   "cell_type": "code",
   "execution_count": 3,
   "metadata": {},
   "outputs": [],
   "source": [
    "tree1 = file1.Get('events')\n",
    "tree2 = file2.Get('events')"
   ]
  },
  {
   "cell_type": "code",
   "execution_count": 4,
   "metadata": {},
   "outputs": [
    {
     "name": "stdout",
     "output_type": "stream",
     "text": [
      "numParticles\n",
      "eventweight\n",
      "scale\n",
      "alpha_qed\n",
      "alpha_qcd\n",
      "pid\n",
      "status\n",
      "mother1\n",
      "mother2\n",
      "color1\n",
      "color2\n",
      "px\n",
      "py\n",
      "pz\n",
      "energy\n",
      "mass\n",
      "tau\n",
      "spin\n"
     ]
    }
   ],
   "source": [
    "branches1 = tree1.GetListOfBranches()\n",
    "\n",
    "for branch in branches1:\n",
    "    print(branch.GetName())"
   ]
  },
  {
   "cell_type": "code",
   "execution_count": 34,
   "metadata": {},
   "outputs": [],
   "source": [
    "# From the data we conclude \n",
    "# Particle ID Higgs : 25\n",
    "# Particle ID Z boson : 23\n",
    "# Particle ID \\gamma : 22\n",
    "# Particle ID Mu+ : -13\n",
    "# Particle ID Mu- : 13\n",
    "# Particle ID e+ : -11\n",
    "# Particle ID e- : 11"
   ]
  },
  {
   "cell_type": "markdown",
   "metadata": {},
   "source": [
    "Tree 1 : Only Z Propagator"
   ]
  },
  {
   "cell_type": "code",
   "execution_count": 44,
   "metadata": {},
   "outputs": [
    {
     "name": "stdout",
     "output_type": "stream",
     "text": [
      "Particle momentum data saved to 'OUTPUT_Z_Propagator_DATA_particle_momentum_data.csv'.\n"
     ]
    }
   ],
   "source": [
    "import ROOT\n",
    "import csv\n",
    "\n",
    "# Open a CSV file for writing\n",
    "with open(\"OUTPUT_Z_Propagator_DATA_particle_momentum_data.csv\", mode=\"w\", newline=\"\") as csvfile:\n",
    "    csvwriter = csv.writer(csvfile)\n",
    "\n",
    "    # Write the header row\n",
    "    csvwriter.writerow([\"Event\", \"Particle\", \"Px\", \"Py\", \"Pz\", \"Energy\"])\n",
    "\n",
    "    # Initialize event counter\n",
    "    event_counter = 0\n",
    "\n",
    "    # Loop over all events in the tree\n",
    "    for event in tree1:\n",
    "        # Access branches for all particles in the event\n",
    "        x = event.px\n",
    "        y = event.py\n",
    "        z = event.pz\n",
    "        e = event.energy  # Energy\n",
    "        pid = event.pid  # Particle IDs\n",
    "\n",
    "        # Initialize momentum vectors\n",
    "        fourvectorHiggs = None\n",
    "        fourvectorZ = None\n",
    "        fourvectorGamma = None\n",
    "        fourvectorMuPlus = None\n",
    "        fourvectorMuMinus = None\n",
    "        fourvectorEPlus = None\n",
    "        fourvectorEMinus = None\n",
    "\n",
    "        # Loop over all particles in the event\n",
    "        for j in range(len(pid)):\n",
    "            # Higgs momentum vector\n",
    "            if pid[j] == 25:\n",
    "                fourvectorHiggs = ROOT.Math.PxPyPzEVector(x[j], y[j], z[j], e[j])\n",
    "                csvwriter.writerow([event_counter, \"Higgs\", x[j], y[j], z[j], e[j]])\n",
    "\n",
    "            # Z boson momentum vector\n",
    "            elif pid[j] == 23:\n",
    "                fourvectorZ = ROOT.Math.PxPyPzEVector(x[j], y[j], z[j], e[j])\n",
    "                csvwriter.writerow([event_counter, \"Z Boson\", x[j], y[j], z[j], e[j]])\n",
    "\n",
    "            # Photon momentum vector\n",
    "            elif pid[j] == 22:\n",
    "                fourvectorGamma = ROOT.Math.PxPyPzEVector(x[j], y[j], z[j], e[j])\n",
    "                csvwriter.writerow([event_counter, \"Photon\", x[j], y[j], z[j], e[j]])\n",
    "\n",
    "            # Muon momentum vectors\n",
    "            elif pid[j] == -13:\n",
    "                fourvectorMuPlus = ROOT.Math.PxPyPzEVector(x[j], y[j], z[j], e[j])\n",
    "                csvwriter.writerow([event_counter, \"Muon+\", x[j], y[j], z[j], e[j]])\n",
    "            elif pid[j] == 13:\n",
    "                fourvectorMuMinus = ROOT.Math.PxPyPzEVector(x[j], y[j], z[j], e[j])\n",
    "                csvwriter.writerow([event_counter, \"Muon-\", x[j], y[j], z[j], e[j]])\n",
    "\n",
    "            # Electron momentum vectors\n",
    "            elif pid[j] == -11:\n",
    "                fourvectorEPlus = ROOT.Math.PxPyPzEVector(x[j], y[j], z[j], e[j])\n",
    "                csvwriter.writerow([event_counter, \"Electron+\", x[j], y[j], z[j], e[j]])\n",
    "            elif pid[j] == 11:\n",
    "                fourvectorEMinus = ROOT.Math.PxPyPzEVector(x[j], y[j], z[j], e[j])\n",
    "                csvwriter.writerow([event_counter, \"Electron-\", x[j], y[j], z[j], e[j]])\n",
    "\n",
    "        # Increment event counter\n",
    "        event_counter += 1\n",
    "\n",
    "print(\"Particle momentum data saved to 'OUTPUT_Z_Propagator_DATA_particle_momentum_data.csv'.\")\n"
   ]
  },
  {
   "cell_type": "markdown",
   "metadata": {},
   "source": [
    "Analysing the Angles between $Z, \\ell^+$ and $Z, \\ell^-$"
   ]
  },
  {
   "cell_type": "code",
   "execution_count": 45,
   "metadata": {},
   "outputs": [
    {
     "name": "stdout",
     "output_type": "stream",
     "text": [
      "Angles between Z and leptons saved to 'OUTPUT_Z_Propagator_DATA_z_lepton_angles.csv'.\n"
     ]
    }
   ],
   "source": [
    "\n",
    "import csv\n",
    "import math\n",
    "\n",
    "# Function to calculate angle between two momentum vectors\n",
    "def calculate_angle(px1, py1, pz1, px2, py2, pz2):\n",
    "    # Calculate dot product and magnitudes\n",
    "    dot_product = px1 * px2 + py1 * py2 + pz1 * pz2\n",
    "    mag1 = math.sqrt(px1**2 + py1**2 + pz1**2)\n",
    "    mag2 = math.sqrt(px2**2 + py2**2 + pz2**2)\n",
    "    \n",
    "    # Avoid division by zero\n",
    "    if mag1 == 0 or mag2 == 0:\n",
    "        return None\n",
    "    \n",
    "    # Calculate angle in radians and convert to degrees\n",
    "    cos_theta = dot_product / (mag1 * mag2)\n",
    "    angle_rad = math.acos(max(min(cos_theta, 1), -1))  # Clamp value to [-1, 1]\n",
    "    angle_deg = math.degrees(angle_rad)\n",
    "    return angle_deg\n",
    "\n",
    "# Read data from the original CSV file\n",
    "input_csv = \"OUTPUT_Z_Propagator_DATA_particle_momentum_data.csv\"\n",
    "output_csv = \"OUTPUT_Z_Propagator_DATA_z_lepton_angles.csv\"\n",
    "\n",
    "# Open the output CSV file\n",
    "with open(output_csv, mode=\"w\", newline=\"\") as csvfile:\n",
    "    csvwriter = csv.writer(csvfile)\n",
    "    \n",
    "    # Write the header row\n",
    "    csvwriter.writerow([\"Event\", \"Angle_Z_l+\", \"Angle_Z_l-\"])\n",
    "    \n",
    "    # Read the input CSV file\n",
    "    with open(input_csv, mode=\"r\") as infile:\n",
    "        csvreader = csv.reader(infile)\n",
    "        header = next(csvreader)  # Skip header row\n",
    "        \n",
    "        # Initialize variables\n",
    "        current_event = None\n",
    "        z_vector = None\n",
    "        lepton_plus_vector = None\n",
    "        lepton_minus_vector = None\n",
    "        angles = []\n",
    "\n",
    "        # Loop over rows in the input CSV\n",
    "        for row in csvreader:\n",
    "            event = int(row[0])\n",
    "            particle = row[1]\n",
    "            px, py, pz = map(float, row[2:5])\n",
    "            \n",
    "            # Check if we're moving to a new event\n",
    "            if current_event is not None and event != current_event:\n",
    "                # Calculate angles for the previous event\n",
    "                angle_z_lepton_plus = None\n",
    "                angle_z_lepton_minus = None\n",
    "                \n",
    "                if z_vector and lepton_plus_vector:\n",
    "                    angle_z_lepton_plus = calculate_angle(\n",
    "                        z_vector[0], z_vector[1], z_vector[2],\n",
    "                        lepton_plus_vector[0], lepton_plus_vector[1], lepton_plus_vector[2]\n",
    "                    )\n",
    "                \n",
    "                if z_vector and lepton_minus_vector:\n",
    "                    angle_z_lepton_minus = calculate_angle(\n",
    "                        z_vector[0], z_vector[1], z_vector[2],\n",
    "                        lepton_minus_vector[0], lepton_minus_vector[1], lepton_minus_vector[2]\n",
    "                    )\n",
    "                \n",
    "                # Write results to the output CSV\n",
    "                csvwriter.writerow([current_event, angle_z_lepton_plus, angle_z_lepton_minus])\n",
    "                \n",
    "                # Reset vectors for the new event\n",
    "                z_vector = None\n",
    "                lepton_plus_vector = None\n",
    "                lepton_minus_vector = None\n",
    "            \n",
    "            # Update the current event\n",
    "            current_event = event\n",
    "            \n",
    "            # Assign momentum vectors based on particle type\n",
    "            if particle == \"Z Boson\":\n",
    "                z_vector = (px, py, pz)\n",
    "            elif particle == \"Muon+\" or particle == \"Electron+\":\n",
    "                lepton_plus_vector = (px, py, pz)\n",
    "            elif particle == \"Muon-\" or particle == \"Electron-\":\n",
    "                lepton_minus_vector = (px, py, pz)\n",
    "        \n",
    "        # Handle the last event\n",
    "        if current_event is not None:\n",
    "            angle_z_lepton_plus = None\n",
    "            angle_z_lepton_minus = None\n",
    "            \n",
    "            if z_vector and lepton_plus_vector:\n",
    "                angle_z_lepton_plus = calculate_angle(\n",
    "                    z_vector[0], z_vector[1], z_vector[2],\n",
    "                    lepton_plus_vector[0], lepton_plus_vector[1], lepton_plus_vector[2]\n",
    "                )\n",
    "            \n",
    "            if z_vector and lepton_minus_vector:\n",
    "                angle_z_lepton_minus = calculate_angle(\n",
    "                    z_vector[0], z_vector[1], z_vector[2],\n",
    "                    lepton_minus_vector[0], lepton_minus_vector[1], lepton_minus_vector[2]\n",
    "                )\n",
    "            \n",
    "            csvwriter.writerow([current_event, angle_z_lepton_plus, angle_z_lepton_minus])\n",
    "\n",
    "print(f\"Angles between Z and leptons saved to '{output_csv}'.\")\n"
   ]
  },
  {
   "cell_type": "code",
   "execution_count": 51,
   "metadata": {},
   "outputs": [
    {
     "data": {
      "image/png": "[encoded data removed]",
      "text/plain": [
       "<Figure size 640x480 with 1 Axes>"
      ]
     },
     "metadata": {},
     "output_type": "display_data"
    }
   ],
   "source": [
    "import pandas as pd\n",
    "import matplotlib.pyplot as plt\n",
    "\n",
    "# Load the CSV file\n",
    "data = pd.read_csv('OUTPUT_Z_Propagator_DATA_z_lepton_angles.csv')\n",
    "\n",
    "# Extract the column names\n",
    "col_2_name = data.columns[1]  # Name of the 2nd column\n",
    "col_3_name = data.columns[2]  # Name of the 3rd column\n",
    "\n",
    "# Extract the 2nd and 3rd columns (data)\n",
    "col_2 = data.iloc[:, 1]  # 2nd column (index 1)\n",
    "col_3 = data.iloc[:, 2]  # 3rd column (index 2)\n",
    "\n",
    "# Create the histograms\n",
    "plt.hist(col_2, bins=30, alpha=0.5, label=col_2_name, color='blue')\n",
    "plt.hist(col_3, bins=30, alpha=0.5, label=col_3_name, color='red')\n",
    "\n",
    "# Add labels and title\n",
    "plt.xlabel('Value')\n",
    "plt.ylabel('Frequency')\n",
    "plt.title('Histogram of ' + col_2_name + ' and ' + col_3_name)\n",
    "plt.legend()\n",
    "\n",
    "# Show the plot\n",
    "plt.show()\n"
   ]
  },
  {
   "cell_type": "markdown",
   "metadata": {},
   "source": [
    "Tree 2 : Z and $\\gamma$ Propagator"
   ]
  },
  {
   "cell_type": "code",
   "execution_count": 46,
   "metadata": {},
   "outputs": [
    {
     "name": "stdout",
     "output_type": "stream",
     "text": [
      "Particle momentum data saved to 'OUTPUT_Za_Propagator_DATA_particle_momentum_data.csv'.\n"
     ]
    }
   ],
   "source": [
    "import ROOT\n",
    "import csv\n",
    "\n",
    "# Open a CSV file for writing\n",
    "with open(\"OUTPUT_Za_Propagator_DATA_particle_momentum_data.csv\", mode=\"w\", newline=\"\") as csvfile:\n",
    "    csvwriter = csv.writer(csvfile)\n",
    "\n",
    "    # Write the header row\n",
    "    csvwriter.writerow([\"Event\", \"Particle\", \"Px\", \"Py\", \"Pz\", \"Energy\"])\n",
    "\n",
    "    # Initialize event counter\n",
    "    event_counter = 0\n",
    "\n",
    "    # Loop over all events in the tree\n",
    "    for event in tree2:\n",
    "        # Access branches for all particles in the event\n",
    "        x = event.px\n",
    "        y = event.py\n",
    "        z = event.pz\n",
    "        e = event.energy  # Energy\n",
    "        pid = event.pid  # Particle IDs\n",
    "\n",
    "        # Initialize momentum vectors\n",
    "        fourvectorHiggs = None\n",
    "        fourvectorZ = None\n",
    "        fourvectorGamma = None\n",
    "        fourvectorMuPlus = None\n",
    "        fourvectorMuMinus = None\n",
    "        fourvectorEPlus = None\n",
    "        fourvectorEMinus = None\n",
    "\n",
    "        # Loop over all particles in the event\n",
    "        for j in range(len(pid)):\n",
    "            # Higgs momentum vector\n",
    "            if pid[j] == 25:\n",
    "                fourvectorHiggs = ROOT.Math.PxPyPzEVector(x[j], y[j], z[j], e[j])\n",
    "                csvwriter.writerow([event_counter, \"Higgs\", x[j], y[j], z[j], e[j]])\n",
    "\n",
    "            # Z boson momentum vector\n",
    "            elif pid[j] == 23:\n",
    "                fourvectorZ = ROOT.Math.PxPyPzEVector(x[j], y[j], z[j], e[j])\n",
    "                csvwriter.writerow([event_counter, \"Z Boson\", x[j], y[j], z[j], e[j]])\n",
    "\n",
    "            # Photon momentum vector\n",
    "            elif pid[j] == 22:\n",
    "                fourvectorGamma = ROOT.Math.PxPyPzEVector(x[j], y[j], z[j], e[j])\n",
    "                csvwriter.writerow([event_counter, \"Photon\", x[j], y[j], z[j], e[j]])\n",
    "\n",
    "            # Muon momentum vectors\n",
    "            elif pid[j] == -13:\n",
    "                fourvectorMuPlus = ROOT.Math.PxPyPzEVector(x[j], y[j], z[j], e[j])\n",
    "                csvwriter.writerow([event_counter, \"Muon+\", x[j], y[j], z[j], e[j]])\n",
    "            elif pid[j] == 13:\n",
    "                fourvectorMuMinus = ROOT.Math.PxPyPzEVector(x[j], y[j], z[j], e[j])\n",
    "                csvwriter.writerow([event_counter, \"Muon-\", x[j], y[j], z[j], e[j]])\n",
    "\n",
    "            # Electron momentum vectors\n",
    "            elif pid[j] == -11:\n",
    "                fourvectorEPlus = ROOT.Math.PxPyPzEVector(x[j], y[j], z[j], e[j])\n",
    "                csvwriter.writerow([event_counter, \"Electron+\", x[j], y[j], z[j], e[j]])\n",
    "            elif pid[j] == 11:\n",
    "                fourvectorEMinus = ROOT.Math.PxPyPzEVector(x[j], y[j], z[j], e[j])\n",
    "                csvwriter.writerow([event_counter, \"Electron-\", x[j], y[j], z[j], e[j]])\n",
    "\n",
    "        # Increment event counter\n",
    "        event_counter += 1\n",
    "\n",
    "print(\"Particle momentum data saved to 'OUTPUT_Za_Propagator_DATA_particle_momentum_data.csv'.\")\n",
    "\n"
   ]
  },
  {
   "cell_type": "markdown",
   "metadata": {},
   "source": [
    "Azimuthal angle distribution\n",
    "\n",
    "$$\\phi$$"
   ]
  },
  {
   "cell_type": "markdown",
   "metadata": {},
   "source": []
  },
  {
   "cell_type": "code",
   "execution_count": null,
   "metadata": {},
   "outputs": [],
   "source": []
  }
 ],
 "metadata": {
  "kernelspec": {
   "display_name": "work1",
   "language": "python",
   "name": "python3"
  },
  "language_info": {
   "codemirror_mode": {
    "name": "ipython",
    "version": 3
   },
   "file_extension": ".py",
   "mimetype": "text/x-python",
   "name": "python",
   "nbconvert_exporter": "python",
   "pygments_lexer": "ipython3",
   "version": "3.12.8"
  }
 },
 "nbformat": 4,
 "nbformat_minor": 2
}
