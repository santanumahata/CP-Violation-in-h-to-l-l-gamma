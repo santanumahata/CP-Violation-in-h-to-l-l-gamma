{
 "cells": [
  {
   "cell_type": "code",
   "execution_count": 2,
   "metadata": {},
   "outputs": [],
   "source": [
    "import ROOT\n",
    "import numpy as np\n",
    "import pandas as pd\n",
    "import csv\n",
    "import matplotlib.pyplot as plt"
   ]
  },
  {
   "cell_type": "code",
   "execution_count": 3,
   "metadata": {},
   "outputs": [],
   "source": [
    "data_h_rest = pd.read_csv('OUTPUT_Z_Propagator_DATA_particle_momentum_data.csv')\n",
    "data_Z_rest = pd.read_csv('OUTPUT_Zrest_ZProp.csv')"
   ]
  },
  {
   "cell_type": "code",
   "execution_count": 4,
   "metadata": {},
   "outputs": [
    {
     "name": "stdout",
     "output_type": "stream",
     "text": [
      "Z Boson Momentum Vectors (Event by Event):\n",
      "             Px         Py         Pz\n",
      "0    -18.290857 -17.235518 -11.175652\n",
      "1    -16.927574   9.896358 -19.769213\n",
      "2     -6.212708  13.784579  25.852228\n",
      "3      0.545921 -25.375134 -19.326395\n",
      "4    -23.596687 -22.229040  15.945297\n",
      "...         ...        ...        ...\n",
      "9949  18.133320 -22.357569   9.209110\n",
      "9950 -20.951756  -0.809722  22.718752\n",
      "9951   8.813547   5.294589 -29.732714\n",
      "9952  20.879829  28.052488   7.601995\n",
      "9953   4.901194   7.630600  26.443684\n",
      "\n",
      "[9954 rows x 3 columns]\n"
     ]
    }
   ],
   "source": [
    "# Initialize a list to store the Z boson momentum vectors\n",
    "z_boson_momenta = []\n",
    "data = data_h_rest\n",
    "# Loop through the data to extract Z boson momenta\n",
    "for i in range(len(data_h_rest)):\n",
    "    # Check if the current particle is a Z Boson\n",
    "    if data.iloc[i, 1] == 'Z Boson':\n",
    "        # Extract momentum components (Px, Py, Pz)\n",
    "        px = data.iloc[i, 2]\n",
    "        py = data.iloc[i, 3]\n",
    "        pz = data.iloc[i, 4]\n",
    "        \n",
    "        # Calculate the momentum vector as a numpy array\n",
    "        momentum_vector = np.array([px, py, pz])\n",
    "        \n",
    "        # Append the momentum vector to the list\n",
    "        z_boson_momenta.append(momentum_vector)\n",
    "\n",
    "# Convert the list of Z boson momenta to a DataFrame for easier handling\n",
    "z_boson_momenta_df = pd.DataFrame(z_boson_momenta, columns=['Px', 'Py', 'Pz'])\n",
    "\n",
    "# Print the momentum vectors for Z boson (event by event)\n",
    "print(\"Z Boson Momentum Vectors (Event by Event):\")\n",
    "print(z_boson_momenta_df)\n",
    "\n",
    "# Optionally, save the momentum vectors to a new CSV file\n",
    "z_boson_momenta_df.to_csv('z(ZProp)_boson_momenta.csv', index=True)\n"
   ]
  },
  {
   "cell_type": "code",
   "execution_count": 5,
   "metadata": {},
   "outputs": [
    {
     "name": "stdout",
     "output_type": "stream",
     "text": [
      "Momentum Vectors for Electron- (Event by Event):\n",
      "      Event         Px         Py         Pz\n",
      "0         3 -13.643480  35.272068  27.512489\n",
      "1         8   7.230058 -37.961525  25.935173\n",
      "2        13 -29.872666  -9.176496 -32.524536\n",
      "3        43  11.581730 -39.974547  -1.305078\n",
      "4        58 -29.199587 -28.160851  16.443632\n",
      "...     ...        ...        ...        ...\n",
      "4952  49713 -29.076684  35.401632  -3.157069\n",
      "4953  49718  -6.908405 -24.633421 -24.204623\n",
      "4954  49733 -38.303125  10.173547  17.248388\n",
      "4955  49738   1.273393 -23.475163  26.764592\n",
      "4956  49768 -27.236582 -37.389887   4.380567\n",
      "\n",
      "[4957 rows x 4 columns]\n"
     ]
    }
   ],
   "source": [
    "# Load the CSV file\n",
    "data = pd.read_csv('OUTPUT_Zrest_ZProp.csv')\n",
    "\n",
    "# Initialize a list to store the momentum vectors of Electron+ and Electron- for each event\n",
    "electron_momenta = []\n",
    "\n",
    "# Loop through the data to extract momentum for Electron+ and Electron-\n",
    "for i in range(len(data)):\n",
    "    particle = data.iloc[i, 2]  # Get the particle column\n",
    "    \n",
    "    # Ensure particle is a string before using .strip()\n",
    "    if isinstance(particle, str):  # Check if it's a string\n",
    "        particle = particle.strip()  # Remove leading/trailing spaces\n",
    "    \n",
    "    # Check if the particle is Electron+ or Electron-\n",
    "    if particle == 'Electron-':\n",
    "        # Extract the momentum components (Px, Py, Pz)\n",
    "        px = data.iloc[i, 3]\n",
    "        py = data.iloc[i, 4]\n",
    "        pz = data.iloc[i, 5]\n",
    "        \n",
    "        # Calculate the momentum vector as a numpy array\n",
    "        momentum_vector = np.array([px, py, pz])\n",
    "        \n",
    "        # Store the event number, particle type, and the momentum vector\n",
    "        event_number = data.iloc[i, 0]\n",
    "        particle_type = data.iloc[i, 1]\n",
    "        electron_momenta.append([event_number, *momentum_vector])\n",
    "\n",
    "# Convert the list of electron momenta to a DataFrame for easier handling\n",
    "electron_momenta_df = pd.DataFrame(electron_momenta, columns=['Event', 'Px', 'Py', 'Pz'])\n",
    "\n",
    "# Print the momentum vectors for the electrons\n",
    "print(\"Momentum Vectors for Electron- (Event by Event):\")\n",
    "print(electron_momenta_df)\n",
    "\n",
    "# Optionally, save the electron momentum vectors to a new CSV file\n",
    "electron_momenta_df.to_csv('electron(ZProp)_momenta_Zrest.csv', index=True)\n",
    "\n"
   ]
  },
  {
   "cell_type": "code",
   "execution_count": 6,
   "metadata": {},
   "outputs": [
    {
     "name": "stdout",
     "output_type": "stream",
     "text": [
      "     Event  Angle (radians)\n",
      "0        3         2.862441\n",
      "1        8         2.360303\n",
      "2       13         0.636926\n",
      "3       43         2.066259\n",
      "4       58         1.864707\n",
      "..     ...              ...\n",
      "970   9928         0.658571\n",
      "971   9933         1.147321\n",
      "972   9938         1.235949\n",
      "973   9943         2.168638\n",
      "974   9948         2.874783\n",
      "\n",
      "[975 rows x 2 columns]\n"
     ]
    }
   ],
   "source": [
    "import pandas as pd\n",
    "import numpy as np\n",
    "\n",
    "# Load the CSV files for Z boson and electron data\n",
    "z_data = pd.read_csv('z(ZProp)_boson_momenta.csv')  # Replace with the correct path to the Z boson CSV\n",
    "electron_data = pd.read_csv('electron(ZProp)_momenta_Zrest.csv')  # Replace with the correct path to the electron CSV\n",
    "\n",
    "# Initialize a list to store the angle between Z boson and electron momenta for each event\n",
    "angles = []\n",
    "\n",
    "# Loop through each row in Z boson data and find the corresponding electron data by event\n",
    "for i in range(len(z_data)):\n",
    "    # Extract the momentum of Z boson\n",
    "    z_px, z_py, z_pz = z_data.iloc[i, 1], z_data.iloc[i, 2], z_data.iloc[i, 3]\n",
    "    z_momentum = np.array([z_px, z_py, z_pz])\n",
    "    \n",
    "    # Check if the event exists in electron data (assuming same event IDs between Z and electron)\n",
    "    event_id = z_data.iloc[i, 0]\n",
    "    electron_row = electron_data[electron_data['Event'] == event_id]\n",
    "    \n",
    "    # If there is corresponding electron data for this event, compute the angle\n",
    "    if not electron_row.empty:\n",
    "        # Extract the momentum of electron\n",
    "        electron_px, electron_py, electron_pz = electron_row.iloc[0, 2], electron_row.iloc[0, 3], electron_row.iloc[0, 4]\n",
    "        electron_momentum = np.array([electron_px, electron_py, electron_pz])\n",
    "        \n",
    "        # Compute the dot product and magnitudes of the two momentum vectors\n",
    "        dot_product = np.dot(z_momentum, electron_momentum)\n",
    "        z_magnitude = np.linalg.norm(z_momentum)\n",
    "        electron_magnitude = np.linalg.norm(electron_momentum)\n",
    "        \n",
    "        # Compute the angle (in radians)\n",
    "        cos_theta = dot_product / (z_magnitude * electron_magnitude)\n",
    "        theta = np.arccos(np.clip(cos_theta, -1.0, 1.0))  # Clip to avoid numerical errors\n",
    "        \n",
    "        # Store the angle in the list\n",
    "        angles.append([event_id, theta])\n",
    "\n",
    "# Convert the list of angles to a DataFrame\n",
    "angles_df = pd.DataFrame(angles, columns=['Event', 'Angle (radians)'])\n",
    "\n",
    "# Optionally, save the angles to a new CSV file\n",
    "angles_df.to_csv('z(ZProp)_electron_angle.csv', index=True)\n",
    "\n",
    "# Print the angles\n",
    "print(angles_df)\n"
   ]
  },
  {
   "cell_type": "code",
   "execution_count": 7,
   "metadata": {},
   "outputs": [
    {
     "data": {
      "image/png": "[encoded data removed]",
      "text/plain": [
       "<Figure size 800x600 with 1 Axes>"
      ]
     },
     "metadata": {},
     "output_type": "display_data"
    }
   ],
   "source": [
    "# Load the angles data (already computed from the previous step)\n",
    "angles_df = pd.read_csv('z(ZProp)_electron_angle.csv')  # Replace with the correct path to the angle CSV\n",
    "\n",
    "# Plotting the histogram of angles\n",
    "plt.figure(figsize=(8, 6))\n",
    "plt.hist(angles_df['Angle (radians)'], bins=10, alpha=0.7, color='blue', edgecolor='black')\n",
    "\n",
    "# Add labels and title\n",
    "plt.xlabel('Angle (radians)', fontsize=12)\n",
    "plt.ylabel('Frequency', fontsize=12)\n",
    "plt.title('Histogram of Angle between Z Boson and Electron Momentum', fontsize=14)\n",
    "plt.grid(True)\n",
    "\n",
    "# Show the plot\n",
    "plt.show()"
   ]
  },
  {
   "cell_type": "code",
   "execution_count": null,
   "metadata": {},
   "outputs": [],
   "source": []
  },
  {
   "cell_type": "code",
   "execution_count": 8,
   "metadata": {},
   "outputs": [
    {
     "name": "stdout",
     "output_type": "stream",
     "text": [
      "Momentum Vectors for Electron+ (Event by Event):\n",
      "      Event         Px         Py         Pz\n",
      "0         2  13.643479 -35.272069 -27.512491\n",
      "1         7  -7.230057  37.961522 -25.935175\n",
      "2        12  29.872666   9.176495  32.524535\n",
      "3        42 -11.581730  39.974548   1.305077\n",
      "4        57  29.199587  28.160851 -16.443633\n",
      "...     ...        ...        ...        ...\n",
      "4952  49712  29.076685 -35.401632   3.157069\n",
      "4953  49717   6.908404  24.633424  24.204623\n",
      "4954  49732  38.303125 -10.173548 -17.248389\n",
      "4955  49737  -1.273393  23.475162 -26.764591\n",
      "4956  49767  27.236582  37.389887  -4.380567\n",
      "\n",
      "[4957 rows x 4 columns]\n"
     ]
    }
   ],
   "source": [
    "# Load the CSV file\n",
    "data = pd.read_csv('OUTPUT_Zrest_ZProp.csv')\n",
    "\n",
    "# Initialize a list to store the momentum vectors of Electron+ and Electron- for each event\n",
    "electron_momenta = []\n",
    "\n",
    "# Loop through the data to extract momentum for Electron+ and Electron-\n",
    "for i in range(len(data)):\n",
    "    particle = data.iloc[i, 2]  # Get the particle column\n",
    "    \n",
    "    # Ensure particle is a string before using .strip()\n",
    "    if isinstance(particle, str):  # Check if it's a string\n",
    "        particle = particle.strip()  # Remove leading/trailing spaces\n",
    "    \n",
    "    # Check if the particle is Electron+ or Electron-\n",
    "    if particle == 'Electron+':\n",
    "        # Extract the momentum components (Px, Py, Pz)\n",
    "        px = data.iloc[i, 3]\n",
    "        py = data.iloc[i, 4]\n",
    "        pz = data.iloc[i, 5]\n",
    "        \n",
    "        # Calculate the momentum vector as a numpy array\n",
    "        momentum_vector = np.array([px, py, pz])\n",
    "        \n",
    "        # Store the event number, particle type, and the momentum vector\n",
    "        event_number = data.iloc[i, 0]\n",
    "        particle_type = data.iloc[i, 1]\n",
    "        electron_momenta.append([event_number, *momentum_vector])\n",
    "\n",
    "# Convert the list of electron momenta to a DataFrame for easier handling\n",
    "electron_momenta_df = pd.DataFrame(electron_momenta, columns=['Event', 'Px', 'Py', 'Pz'])\n",
    "\n",
    "# Print the momentum vectors for the electrons\n",
    "print(\"Momentum Vectors for Electron+ (Event by Event):\")\n",
    "print(electron_momenta_df)\n",
    "\n",
    "# Optionally, save the electron momentum vectors to a new CSV file\n",
    "electron_momenta_df.to_csv('positron(ZProp)_momenta_Zrest.csv', index=True)\n",
    "\n"
   ]
  },
  {
   "cell_type": "code",
   "execution_count": 9,
   "metadata": {},
   "outputs": [
    {
     "name": "stdout",
     "output_type": "stream",
     "text": [
      "     Event  Angle (radians)\n",
      "0        2         2.727441\n",
      "1        7         1.521404\n",
      "2       12         1.464643\n",
      "3       42         0.627551\n",
      "4       57         0.786278\n",
      "..     ...              ...\n",
      "970   9927         2.550969\n",
      "971   9932         0.624643\n",
      "972   9937         0.597600\n",
      "973   9942         2.188817\n",
      "974   9947         2.337536\n",
      "\n",
      "[975 rows x 2 columns]\n"
     ]
    }
   ],
   "source": [
    "import pandas as pd\n",
    "import numpy as np\n",
    "\n",
    "# Load the CSV files for Z boson and electron data\n",
    "z_data = pd.read_csv('z(ZProp)_boson_momenta.csv')  # Replace with the correct path to the Z boson CSV\n",
    "electron_data = pd.read_csv('positron(ZProp)_momenta_Zrest.csv')  # Replace with the correct path to the electron CSV\n",
    "\n",
    "# Initialize a list to store the angle between Z boson and electron momenta for each event\n",
    "angles = []\n",
    "\n",
    "# Loop through each row in Z boson data and find the corresponding electron data by event\n",
    "for i in range(len(z_data)):\n",
    "    # Extract the momentum of Z boson\n",
    "    z_px, z_py, z_pz = z_data.iloc[i, 1], z_data.iloc[i, 2], z_data.iloc[i, 3]\n",
    "    z_momentum = np.array([z_px, z_py, z_pz])\n",
    "    \n",
    "    # Check if the event exists in electron data (assuming same event IDs between Z and electron)\n",
    "    event_id = z_data.iloc[i, 0]\n",
    "    electron_row = electron_data[electron_data['Event'] == event_id]\n",
    "    \n",
    "    # If there is corresponding electron data for this event, compute the angle\n",
    "    if not electron_row.empty:\n",
    "        # Extract the momentum of electron\n",
    "        electron_px, electron_py, electron_pz = electron_row.iloc[0, 2], electron_row.iloc[0, 3], electron_row.iloc[0, 4]\n",
    "        electron_momentum = np.array([electron_px, electron_py, electron_pz])\n",
    "        \n",
    "        # Compute the dot product and magnitudes of the two momentum vectors\n",
    "        dot_product = np.dot(z_momentum, electron_momentum)\n",
    "        z_magnitude = np.linalg.norm(z_momentum)\n",
    "        electron_magnitude = np.linalg.norm(electron_momentum)\n",
    "        \n",
    "        # Compute the angle (in radians)\n",
    "        cos_theta = dot_product / (z_magnitude * electron_magnitude)\n",
    "        theta = np.arccos(np.clip(cos_theta, -1.0, 1.0))  # Clip to avoid numerical errors\n",
    "        \n",
    "        # Store the angle in the list\n",
    "        angles.append([event_id, theta])\n",
    "\n",
    "# Convert the list of angles to a DataFrame\n",
    "angles_df = pd.DataFrame(angles, columns=['Event', 'Angle (radians)'])\n",
    "\n",
    "# Optionally, save the angles to a new CSV file\n",
    "angles_df.to_csv('z(ZProp)_positron_angle.csv', index=True)\n",
    "\n",
    "# Print the angles\n",
    "print(angles_df)\n"
   ]
  },
  {
   "cell_type": "code",
   "execution_count": 11,
   "metadata": {},
   "outputs": [
    {
     "data": {
      "image/png": "[encoded data removed]",
      "text/plain": [
       "<Figure size 800x600 with 1 Axes>"
      ]
     },
     "metadata": {},
     "output_type": "display_data"
    }
   ],
   "source": [
    "# Load the angles data (already computed from the previous step)\n",
    "angles_df = pd.read_csv('z(ZProp)_positron_angle.csv')  # Replace with the correct path to the angle CSV\n",
    "\n",
    "# Plotting the histogram of angles\n",
    "plt.figure(figsize=(8, 6))\n",
    "plt.hist(angles_df['Angle (radians)'], bins=10, alpha=0.7, color='blue', edgecolor='black')\n",
    "\n",
    "# Add labels and title\n",
    "plt.xlabel('Angle (radians)', fontsize=12)\n",
    "plt.ylabel('Frequency', fontsize=12)\n",
    "plt.title('Histogram of Angle between Z Boson and positron Momentum', fontsize=14)\n",
    "plt.grid(True)\n",
    "\n",
    "# Show the plot\n",
    "plt.show()"
   ]
  },
  {
   "cell_type": "code",
   "execution_count": null,
   "metadata": {},
   "outputs": [],
   "source": []
  },
  {
   "cell_type": "code",
   "execution_count": null,
   "metadata": {},
   "outputs": [],
   "source": []
  },
  {
   "cell_type": "code",
   "execution_count": null,
   "metadata": {},
   "outputs": [],
   "source": []
  },
  {
   "cell_type": "code",
   "execution_count": null,
   "metadata": {},
   "outputs": [],
   "source": []
  },
  {
   "cell_type": "code",
   "execution_count": null,
   "metadata": {},
   "outputs": [],
   "source": []
  },
  {
   "cell_type": "code",
   "execution_count": null,
   "metadata": {},
   "outputs": [],
   "source": []
  }
 ],
 "metadata": {
  "kernelspec": {
   "display_name": "work1",
   "language": "python",
   "name": "python3"
  },
  "language_info": {
   "codemirror_mode": {
    "name": "ipython",
    "version": 3
   },
   "file_extension": ".py",
   "mimetype": "text/x-python",
   "name": "python",
   "nbconvert_exporter": "python",
   "pygments_lexer": "ipython3",
   "version": "3.12.8"
  }
 },
 "nbformat": 4,
 "nbformat_minor": 2
}
