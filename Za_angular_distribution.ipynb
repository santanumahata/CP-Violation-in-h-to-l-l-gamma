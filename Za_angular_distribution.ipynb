{
 "cells": [
  {
   "cell_type": "code",
   "execution_count": 2,
   "metadata": {},
   "outputs": [],
   "source": [
    "import ROOT\n",
    "import numpy as np\n",
    "import pandas as pd\n",
    "import csv\n",
    "import matplotlib.pyplot as plt"
   ]
  },
  {
   "cell_type": "code",
   "execution_count": 3,
   "metadata": {},
   "outputs": [],
   "source": [
    "data_h_rest = pd.read_csv('OUTPUT_Za_Propagator_DATA_particle_momentum_data.csv')\n",
    "data_Z_rest = pd.read_csv('OUTPUT_Zrest_ZaProp.csv')"
   ]
  },
  {
   "cell_type": "code",
   "execution_count": 4,
   "metadata": {},
   "outputs": [
    {
     "name": "stdout",
     "output_type": "stream",
     "text": [
      "Z Boson Momentum Vectors (Event by Event):\n",
      "             Px         Py         Pz\n",
      "0    -29.692621   5.010355  -7.983410\n",
      "1    -17.900806  11.154505  10.793622\n",
      "2     15.593260  22.603571  12.157278\n",
      "3    -26.695337  28.616102  -9.238236\n",
      "4      2.326849 -18.907558  23.988398\n",
      "...         ...        ...        ...\n",
      "4316 -13.797826  26.096167   2.234127\n",
      "4317  33.300995  -3.752310   3.203446\n",
      "4318  25.043968  11.653101   7.296015\n",
      "4319 -22.930294 -16.401117  -6.050340\n",
      "4320  23.087269  -6.435698  18.308907\n",
      "\n",
      "[4321 rows x 3 columns]\n"
     ]
    }
   ],
   "source": [
    "# Initialize a list to store the Z boson momentum vectors\n",
    "z_boson_momenta = []\n",
    "data = data_h_rest\n",
    "# Loop through the data to extract Z boson momenta\n",
    "for i in range(len(data_h_rest)):\n",
    "    # Check if the current particle is a Z Boson\n",
    "    if data.iloc[i, 1] == 'Z Boson':\n",
    "        # Extract momentum components (Px, Py, Pz)\n",
    "        px = data.iloc[i, 2]\n",
    "        py = data.iloc[i, 3]\n",
    "        pz = data.iloc[i, 4]\n",
    "        \n",
    "        # Calculate the momentum vector as a numpy array\n",
    "        momentum_vector = np.array([px, py, pz])\n",
    "        \n",
    "        # Append the momentum vector to the list\n",
    "        z_boson_momenta.append(momentum_vector)\n",
    "\n",
    "# Convert the list of Z boson momenta to a DataFrame for easier handling\n",
    "z_boson_momenta_df = pd.DataFrame(z_boson_momenta, columns=['Px', 'Py', 'Pz'])\n",
    "\n",
    "# Print the momentum vectors for Z boson (event by event)\n",
    "print(\"Z Boson Momentum Vectors (Event by Event):\")\n",
    "print(z_boson_momenta_df)\n",
    "\n",
    "# Optionally, save the momentum vectors to a new CSV file\n",
    "z_boson_momenta_df.to_csv('z(ZaProp)_boson_momenta.csv', index=True)\n"
   ]
  },
  {
   "cell_type": "code",
   "execution_count": 5,
   "metadata": {},
   "outputs": [
    {
     "name": "stdout",
     "output_type": "stream",
     "text": [
      "Momentum Vectors for Electron- (Event by Event):\n",
      "      Event         Px         Py         Pz\n",
      "0         3  15.229485   6.628036  41.028512\n",
      "1        23  -9.141696 -26.626938  34.628761\n",
      "2        83 -25.807964  30.279164  17.490800\n",
      "3        88 -39.948643 -24.301255   3.623812\n",
      "4        93   4.887444 -22.339821  16.636519\n",
      "...     ...        ...        ...        ...\n",
      "2194  21583  40.295370 -11.344757  17.424011\n",
      "2195  21588  -0.424602  -1.510689 -42.423538\n",
      "2196  21593  -2.321610  38.183494 -25.637388\n",
      "2197  21598  -3.022055  31.625488 -33.088038\n",
      "2198  21603   8.192892  15.359991  41.450761\n",
      "\n",
      "[2199 rows x 4 columns]\n"
     ]
    }
   ],
   "source": [
    "# Load the CSV file\n",
    "data = pd.read_csv('OUTPUT_Zrest_ZaProp.csv')\n",
    "\n",
    "# Initialize a list to store the momentum vectors of Electron+ and Electron- for each event\n",
    "electron_momenta = []\n",
    "\n",
    "# Loop through the data to extract momentum for Electron+ and Electron-\n",
    "for i in range(len(data)):\n",
    "    particle = data.iloc[i, 2]  # Get the particle column\n",
    "    \n",
    "    # Ensure particle is a string before using .strip()\n",
    "    if isinstance(particle, str):  # Check if it's a string\n",
    "        particle = particle.strip()  # Remove leading/trailing spaces\n",
    "    \n",
    "    # Check if the particle is Electron+ or Electron-\n",
    "    if particle == 'Electron-':\n",
    "        # Extract the momentum components (Px, Py, Pz)\n",
    "        px = data.iloc[i, 3]\n",
    "        py = data.iloc[i, 4]\n",
    "        pz = data.iloc[i, 5]\n",
    "        \n",
    "        # Calculate the momentum vector as a numpy array\n",
    "        momentum_vector = np.array([px, py, pz])\n",
    "        \n",
    "        # Store the event number, particle type, and the momentum vector\n",
    "        event_number = data.iloc[i, 0]\n",
    "        particle_type = data.iloc[i, 1]\n",
    "        electron_momenta.append([event_number, *momentum_vector])\n",
    "\n",
    "# Convert the list of electron momenta to a DataFrame for easier handling\n",
    "electron_momenta_df = pd.DataFrame(electron_momenta, columns=['Event', 'Px', 'Py', 'Pz'])\n",
    "\n",
    "# Print the momentum vectors for the electrons\n",
    "print(\"Momentum Vectors for Electron- (Event by Event):\")\n",
    "print(electron_momenta_df)\n",
    "\n",
    "# Optionally, save the electron momentum vectors to a new CSV file\n",
    "electron_momenta_df.to_csv('electron(ZaProp)_momenta_Zrest.csv', index=True)\n",
    "\n"
   ]
  },
  {
   "cell_type": "code",
   "execution_count": 6,
   "metadata": {},
   "outputs": [
    {
     "name": "stdout",
     "output_type": "stream",
     "text": [
      "     Event  Angle (radians)\n",
      "0        3         1.912209\n",
      "1       23         0.983163\n",
      "2       83         1.272702\n",
      "3       88         2.242282\n",
      "4       93         1.127073\n",
      "..     ...              ...\n",
      "429   4288         0.272411\n",
      "430   4298         3.107466\n",
      "431   4303         0.516977\n",
      "432   4308         2.091163\n",
      "433   4313         0.569808\n",
      "\n",
      "[434 rows x 2 columns]\n"
     ]
    }
   ],
   "source": [
    "import pandas as pd\n",
    "import numpy as np\n",
    "\n",
    "# Load the CSV files for Z boson and electron data\n",
    "z_data = pd.read_csv('z(ZaProp)_boson_momenta.csv')  # Replace with the correct path to the Z boson CSV\n",
    "electron_data = pd.read_csv('electron(ZaProp)_momenta_Zrest.csv')  # Replace with the correct path to the electron CSV\n",
    "\n",
    "# Initialize a list to store the angle between Z boson and electron momenta for each event\n",
    "angles = []\n",
    "\n",
    "# Loop through each row in Z boson data and find the corresponding electron data by event\n",
    "for i in range(len(z_data)):\n",
    "    # Extract the momentum of Z boson\n",
    "    z_px, z_py, z_pz = z_data.iloc[i, 1], z_data.iloc[i, 2], z_data.iloc[i, 3]\n",
    "    z_momentum = np.array([z_px, z_py, z_pz])\n",
    "    \n",
    "    # Check if the event exists in electron data (assuming same event IDs between Z and electron)\n",
    "    event_id = z_data.iloc[i, 0]\n",
    "    electron_row = electron_data[electron_data['Event'] == event_id]\n",
    "    \n",
    "    # If there is corresponding electron data for this event, compute the angle\n",
    "    if not electron_row.empty:\n",
    "        # Extract the momentum of electron\n",
    "        electron_px, electron_py, electron_pz = electron_row.iloc[0, 2], electron_row.iloc[0, 3], electron_row.iloc[0, 4]\n",
    "        electron_momentum = np.array([electron_px, electron_py, electron_pz])\n",
    "        \n",
    "        # Compute the dot product and magnitudes of the two momentum vectors\n",
    "        dot_product = np.dot(z_momentum, electron_momentum)\n",
    "        z_magnitude = np.linalg.norm(z_momentum)\n",
    "        electron_magnitude = np.linalg.norm(electron_momentum)\n",
    "        \n",
    "        # Compute the angle (in radians)\n",
    "        cos_theta = dot_product / (z_magnitude * electron_magnitude)\n",
    "        theta = np.arccos(np.clip(cos_theta, -1.0, 1.0))  # Clip to avoid numerical errors\n",
    "        \n",
    "        # Store the angle in the list\n",
    "        angles.append([event_id, theta])\n",
    "\n",
    "# Convert the list of angles to a DataFrame\n",
    "angles_df = pd.DataFrame(angles, columns=['Event', 'Angle (radians)'])\n",
    "\n",
    "# Optionally, save the angles to a new CSV file\n",
    "angles_df.to_csv('z(ZaProp)_electron_angle.csv', index=True)\n",
    "\n",
    "# Print the angles\n",
    "print(angles_df)\n"
   ]
  },
  {
   "cell_type": "code",
   "execution_count": 7,
   "metadata": {},
   "outputs": [
    {
     "data": {
      "image/png": "[encoded data removed]",
      "text/plain": [
       "<Figure size 800x600 with 1 Axes>"
      ]
     },
     "metadata": {},
     "output_type": "display_data"
    }
   ],
   "source": [
    "# Load the angles data (already computed from the previous step)\n",
    "angles_df = pd.read_csv('z(ZaProp)_electron_angle.csv')  # Replace with the correct path to the angle CSV\n",
    "\n",
    "# Plotting the histogram of angles\n",
    "plt.figure(figsize=(8, 6))\n",
    "plt.hist(angles_df['Angle (radians)'], bins=10, alpha=0.7, color='blue', edgecolor='black')\n",
    "\n",
    "# Add labels and title\n",
    "plt.xlabel('Angle (radians)', fontsize=12)\n",
    "plt.ylabel('Frequency', fontsize=12)\n",
    "plt.title('Histogram of Angle between Z Boson and Electron Momentum', fontsize=14)\n",
    "plt.grid(True)\n",
    "\n",
    "# Show the plot\n",
    "plt.show()"
   ]
  },
  {
   "cell_type": "code",
   "execution_count": null,
   "metadata": {},
   "outputs": [],
   "source": []
  },
  {
   "cell_type": "code",
   "execution_count": null,
   "metadata": {},
   "outputs": [],
   "source": []
  },
  {
   "cell_type": "code",
   "execution_count": null,
   "metadata": {},
   "outputs": [],
   "source": []
  },
  {
   "cell_type": "code",
   "execution_count": null,
   "metadata": {},
   "outputs": [],
   "source": []
  },
  {
   "cell_type": "code",
   "execution_count": null,
   "metadata": {},
   "outputs": [],
   "source": []
  },
  {
   "cell_type": "code",
   "execution_count": null,
   "metadata": {},
   "outputs": [],
   "source": []
  },
  {
   "cell_type": "code",
   "execution_count": null,
   "metadata": {},
   "outputs": [],
   "source": []
  }
 ],
 "metadata": {
  "kernelspec": {
   "display_name": "work1",
   "language": "python",
   "name": "python3"
  },
  "language_info": {
   "codemirror_mode": {
    "name": "ipython",
    "version": 3
   },
   "file_extension": ".py",
   "mimetype": "text/x-python",
   "name": "python",
   "nbconvert_exporter": "python",
   "pygments_lexer": "ipython3",
   "version": "3.12.8"
  }
 },
 "nbformat": 4,
 "nbformat_minor": 2
}
